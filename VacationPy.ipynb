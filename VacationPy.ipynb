{
 "cells": [
  {
   "cell_type": "code",
   "execution_count": 1,
   "metadata": {},
   "outputs": [],
   "source": [
    "# Import cependencies\n",
    "import os   \n",
    "import pandas as pd\n",
    "import gmaps\n",
    "import requests\n",
    "# Import the API Key\n",
    "from config import gKey"
   ]
  },
  {
   "cell_type": "code",
   "execution_count": 2,
   "metadata": {},
   "outputs": [
    {
     "data": {
      "text/html": [
       "<div>\n",
       "<style scoped>\n",
       "    .dataframe tbody tr th:only-of-type {\n",
       "        vertical-align: middle;\n",
       "    }\n",
       "\n",
       "    .dataframe tbody tr th {\n",
       "        vertical-align: top;\n",
       "    }\n",
       "\n",
       "    .dataframe thead th {\n",
       "        text-align: right;\n",
       "    }\n",
       "</style>\n",
       "<table border=\"1\" class=\"dataframe\">\n",
       "  <thead>\n",
       "    <tr style=\"text-align: right;\">\n",
       "      <th></th>\n",
       "      <th>City_ID</th>\n",
       "      <th>City</th>\n",
       "      <th>Country</th>\n",
       "      <th>Date</th>\n",
       "      <th>Lat</th>\n",
       "      <th>Lng</th>\n",
       "      <th>Max Temp</th>\n",
       "      <th>Humidity</th>\n",
       "      <th>Cloudiness</th>\n",
       "      <th>Wind Speed</th>\n",
       "    </tr>\n",
       "  </thead>\n",
       "  <tbody>\n",
       "    <tr>\n",
       "      <th>0</th>\n",
       "      <td>0</td>\n",
       "      <td>Ushuaia</td>\n",
       "      <td>AR</td>\n",
       "      <td>2020-07-11 15:10:20</td>\n",
       "      <td>-54.80</td>\n",
       "      <td>-68.30</td>\n",
       "      <td>32.00</td>\n",
       "      <td>91</td>\n",
       "      <td>75</td>\n",
       "      <td>3.36</td>\n",
       "    </tr>\n",
       "    <tr>\n",
       "      <th>1</th>\n",
       "      <td>1</td>\n",
       "      <td>Punta Arenas</td>\n",
       "      <td>CL</td>\n",
       "      <td>2020-07-11 15:10:20</td>\n",
       "      <td>-53.15</td>\n",
       "      <td>-70.92</td>\n",
       "      <td>35.01</td>\n",
       "      <td>86</td>\n",
       "      <td>75</td>\n",
       "      <td>11.41</td>\n",
       "    </tr>\n",
       "    <tr>\n",
       "      <th>2</th>\n",
       "      <td>2</td>\n",
       "      <td>Mataura</td>\n",
       "      <td>NZ</td>\n",
       "      <td>2020-07-11 15:10:21</td>\n",
       "      <td>-46.19</td>\n",
       "      <td>168.86</td>\n",
       "      <td>44.08</td>\n",
       "      <td>91</td>\n",
       "      <td>100</td>\n",
       "      <td>3.51</td>\n",
       "    </tr>\n",
       "    <tr>\n",
       "      <th>3</th>\n",
       "      <td>3</td>\n",
       "      <td>Butaritari</td>\n",
       "      <td>KI</td>\n",
       "      <td>2020-07-11 15:10:21</td>\n",
       "      <td>3.07</td>\n",
       "      <td>172.79</td>\n",
       "      <td>82.42</td>\n",
       "      <td>80</td>\n",
       "      <td>100</td>\n",
       "      <td>15.55</td>\n",
       "    </tr>\n",
       "    <tr>\n",
       "      <th>4</th>\n",
       "      <td>4</td>\n",
       "      <td>Mahebourg</td>\n",
       "      <td>MU</td>\n",
       "      <td>2020-07-11 15:10:21</td>\n",
       "      <td>-20.41</td>\n",
       "      <td>57.70</td>\n",
       "      <td>71.60</td>\n",
       "      <td>68</td>\n",
       "      <td>75</td>\n",
       "      <td>12.75</td>\n",
       "    </tr>\n",
       "  </tbody>\n",
       "</table>\n",
       "</div>"
      ],
      "text/plain": [
       "   City_ID          City Country                 Date    Lat     Lng  \\\n",
       "0        0       Ushuaia      AR  2020-07-11 15:10:20 -54.80  -68.30   \n",
       "1        1  Punta Arenas      CL  2020-07-11 15:10:20 -53.15  -70.92   \n",
       "2        2       Mataura      NZ  2020-07-11 15:10:21 -46.19  168.86   \n",
       "3        3    Butaritari      KI  2020-07-11 15:10:21   3.07  172.79   \n",
       "4        4     Mahebourg      MU  2020-07-11 15:10:21 -20.41   57.70   \n",
       "\n",
       "   Max Temp  Humidity  Cloudiness  Wind Speed  \n",
       "0     32.00        91          75        3.36  \n",
       "1     35.01        86          75       11.41  \n",
       "2     44.08        91         100        3.51  \n",
       "3     82.42        80         100       15.55  \n",
       "4     71.60        68          75       12.75  "
      ]
     },
     "execution_count": 2,
     "metadata": {},
     "output_type": "execute_result"
    }
   ],
   "source": [
    "# Store the CSV you saved created in part one into a DataFrame.\n",
    "fileToRead = os.path.join(\"weather_data\", \"cities.csv\")\n",
    "cityDataDF = pd.read_csv(fileToRead)\n",
    "cityDataDF.head()"
   ]
  },
  {
   "cell_type": "code",
   "execution_count": 3,
   "metadata": {},
   "outputs": [
    {
     "data": {
      "text/plain": [
       "City_ID         int64\n",
       "City           object\n",
       "Country        object\n",
       "Date           object\n",
       "Lat           float64\n",
       "Lng           float64\n",
       "Max Temp      float64\n",
       "Humidity        int64\n",
       "Cloudiness      int64\n",
       "Wind Speed    float64\n",
       "dtype: object"
      ]
     },
     "execution_count": 3,
     "metadata": {},
     "output_type": "execute_result"
    }
   ],
   "source": [
    "# Check data types \n",
    "cityDataDF.dtypes"
   ]
  },
  {
   "cell_type": "code",
   "execution_count": 4,
   "metadata": {},
   "outputs": [],
   "source": [
    "# Configure gmaps to use your Google API key.\n",
    "gmaps.configure(api_key=gKey)"
   ]
  },
  {
   "cell_type": "code",
   "execution_count": 5,
   "metadata": {},
   "outputs": [],
   "source": [
    "# Get the maximum temperature. (Avoid error in the heatmap_layer function as weight cannot be <0)\n",
    "maxTemp = cityDataDF[\"Max Temp\"]\n",
    "temps = []\n",
    "for temp in maxTemp:\n",
    "    temps.append(max(temp,0))"
   ]
  },
  {
   "cell_type": "code",
   "execution_count": 6,
   "metadata": {},
   "outputs": [
    {
     "data": {
      "application/vnd.jupyter.widget-view+json": {
       "model_id": "875b9b7f8f27468b9ee978442f4011b1",
       "version_major": 2,
       "version_minor": 0
      },
      "text/plain": [
       "Figure(layout=FigureLayout(height='420px'))"
      ]
     },
     "metadata": {},
     "output_type": "display_data"
    }
   ],
   "source": [
    "# Heat map for Max Tempertures\n",
    "# ---------------------------------\n",
    "# 1. Assign the locations to an array of latitude and longitude pairs.\n",
    "locations = cityDataDF[[\"Lat\",\"Lng\"]]\n",
    "# 2. Assign the weights variable to some values.\n",
    "# Get the maximum temperature. (Avoid error in the heatmap_layer function as weight cannot be <0)\n",
    "temperatures = [max(temp,0) for temp in cityDataDF[\"Max Temp\"]]\n",
    "# 3. Assign the figure variable to the gmaps.figure() attribute.\n",
    "fig = gmaps.figure(center=(30.0, 31.0), zoom_level=1.5)\n",
    "# 4. Assign the heatmap_layer variable to the heatmap_layer attribute and add in the locations.\n",
    "heatLayer = gmaps.heatmap_layer(locations, weights=temperatures, dissipating=False, max_intensity=300, point_radius=4)\n",
    "\n",
    "# 5. Add the heatmap layer.\n",
    "fig.add_layer(heatLayer)\n",
    "# 6. Call the figure to plot the data.\n",
    "fig"
   ]
  },
  {
   "cell_type": "code",
   "execution_count": 7,
   "metadata": {},
   "outputs": [
    {
     "data": {
      "application/vnd.jupyter.widget-view+json": {
       "model_id": "2d8508c815cb4d1e85d289c6abcc0d31",
       "version_major": 2,
       "version_minor": 0
      },
      "text/plain": [
       "Figure(layout=FigureLayout(height='420px'))"
      ]
     },
     "metadata": {},
     "output_type": "display_data"
    }
   ],
   "source": [
    "# Heat map for Percent Humidity\n",
    "# ---------------------------------\n",
    "locations = cityDataDF[[\"Lat\",\"Lng\"]]\n",
    "humidity = cityDataDF[\"Humidity\"]\n",
    "fig = gmaps.figure(center=(30.0, 31.0), zoom_level=1.5)\n",
    "heatLayer = gmaps.heatmap_layer(locations, weights=humidity, dissipating=False, max_intensity=300, point_radius=4)\n",
    "\n",
    "fig.add_layer(heatLayer)\n",
    "# Call the figure to plot the data.\n",
    "fig"
   ]
  },
  {
   "cell_type": "code",
   "execution_count": 8,
   "metadata": {},
   "outputs": [
    {
     "data": {
      "application/vnd.jupyter.widget-view+json": {
       "model_id": "b209a93c7c0742259baa77869f28e0ea",
       "version_major": 2,
       "version_minor": 0
      },
      "text/plain": [
       "Figure(layout=FigureLayout(height='420px'))"
      ]
     },
     "metadata": {},
     "output_type": "display_data"
    }
   ],
   "source": [
    "# Heat map for Percent Cloudiness\n",
    "# ---------------------------------\n",
    "locations = cityDataDF[[\"Lat\",\"Lng\"]]\n",
    "clouds = cityDataDF[\"Cloudiness\"]\n",
    "fig = gmaps.figure(center=(30.0, 31.0), zoom_level=1.5)\n",
    "heatLayer = gmaps.heatmap_layer(locations, weights=clouds, dissipating=False, max_intensity=300, point_radius=4)\n",
    "\n",
    "fig.add_layer(heatLayer)\n",
    "# Call the figure to plot the data.\n",
    "fig"
   ]
  },
  {
   "cell_type": "code",
   "execution_count": 9,
   "metadata": {},
   "outputs": [
    {
     "data": {
      "application/vnd.jupyter.widget-view+json": {
       "model_id": "ba4350bbfc02482396bccc23df40421a",
       "version_major": 2,
       "version_minor": 0
      },
      "text/plain": [
       "Figure(layout=FigureLayout(height='420px'))"
      ]
     },
     "metadata": {},
     "output_type": "display_data"
    }
   ],
   "source": [
    "# Heat map for Wind Speed\n",
    "# ---------------------------------\n",
    "locations = cityDataDF[[\"Lat\",\"Lng\"]]\n",
    "wind = cityDataDF[\"Wind Speed\"]\n",
    "fig = gmaps.figure(center=(30.0, 31.0), zoom_level=1.5)\n",
    "heatLayer = gmaps.heatmap_layer(locations, weights=wind, dissipating=False, max_intensity=300, point_radius=4)\n",
    "\n",
    "fig.add_layer(heatLayer)\n",
    "# Call the figure to plot the data.\n",
    "fig"
   ]
  },
  {
   "cell_type": "code",
   "execution_count": 10,
   "metadata": {},
   "outputs": [
    {
     "name": "stdout",
     "output_type": "stream",
     "text": [
      "What is the minimum temperature you would like for your trip? 78\n",
      "What is the maximum temperature you would like for your trip? 90\n"
     ]
    }
   ],
   "source": [
    "# Ask the customer to add a minimum and maximum temperature value.\n",
    "minTempInput = float(input(\"What is the minimum temperature you would like for your trip? \"))\n",
    "maxTempInput = float(input(\"What is the maximum temperature you would like for your trip? \"))"
   ]
  },
  {
   "cell_type": "code",
   "execution_count": 11,
   "metadata": {},
   "outputs": [
    {
     "data": {
      "text/html": [
       "<div>\n",
       "<style scoped>\n",
       "    .dataframe tbody tr th:only-of-type {\n",
       "        vertical-align: middle;\n",
       "    }\n",
       "\n",
       "    .dataframe tbody tr th {\n",
       "        vertical-align: top;\n",
       "    }\n",
       "\n",
       "    .dataframe thead th {\n",
       "        text-align: right;\n",
       "    }\n",
       "</style>\n",
       "<table border=\"1\" class=\"dataframe\">\n",
       "  <thead>\n",
       "    <tr style=\"text-align: right;\">\n",
       "      <th></th>\n",
       "      <th>City_ID</th>\n",
       "      <th>City</th>\n",
       "      <th>Country</th>\n",
       "      <th>Date</th>\n",
       "      <th>Lat</th>\n",
       "      <th>Lng</th>\n",
       "      <th>Max Temp</th>\n",
       "      <th>Humidity</th>\n",
       "      <th>Cloudiness</th>\n",
       "      <th>Wind Speed</th>\n",
       "    </tr>\n",
       "  </thead>\n",
       "  <tbody>\n",
       "    <tr>\n",
       "      <th>3</th>\n",
       "      <td>3</td>\n",
       "      <td>Butaritari</td>\n",
       "      <td>KI</td>\n",
       "      <td>2020-07-11 15:10:21</td>\n",
       "      <td>3.07</td>\n",
       "      <td>172.79</td>\n",
       "      <td>82.42</td>\n",
       "      <td>80</td>\n",
       "      <td>100</td>\n",
       "      <td>15.55</td>\n",
       "    </tr>\n",
       "    <tr>\n",
       "      <th>13</th>\n",
       "      <td>13</td>\n",
       "      <td>Kutum</td>\n",
       "      <td>SD</td>\n",
       "      <td>2020-07-11 15:10:22</td>\n",
       "      <td>14.20</td>\n",
       "      <td>24.67</td>\n",
       "      <td>83.23</td>\n",
       "      <td>41</td>\n",
       "      <td>53</td>\n",
       "      <td>6.22</td>\n",
       "    </tr>\n",
       "    <tr>\n",
       "      <th>15</th>\n",
       "      <td>15</td>\n",
       "      <td>Touros</td>\n",
       "      <td>BR</td>\n",
       "      <td>2020-07-11 15:10:19</td>\n",
       "      <td>-5.20</td>\n",
       "      <td>-35.46</td>\n",
       "      <td>78.80</td>\n",
       "      <td>74</td>\n",
       "      <td>75</td>\n",
       "      <td>13.87</td>\n",
       "    </tr>\n",
       "    <tr>\n",
       "      <th>17</th>\n",
       "      <td>17</td>\n",
       "      <td>Albany</td>\n",
       "      <td>US</td>\n",
       "      <td>2020-07-11 15:06:44</td>\n",
       "      <td>42.60</td>\n",
       "      <td>-73.97</td>\n",
       "      <td>84.00</td>\n",
       "      <td>74</td>\n",
       "      <td>75</td>\n",
       "      <td>1.01</td>\n",
       "    </tr>\n",
       "    <tr>\n",
       "      <th>20</th>\n",
       "      <td>20</td>\n",
       "      <td>Kapaa</td>\n",
       "      <td>US</td>\n",
       "      <td>2020-07-11 15:10:09</td>\n",
       "      <td>22.08</td>\n",
       "      <td>-159.32</td>\n",
       "      <td>78.80</td>\n",
       "      <td>83</td>\n",
       "      <td>90</td>\n",
       "      <td>12.75</td>\n",
       "    </tr>\n",
       "  </tbody>\n",
       "</table>\n",
       "</div>"
      ],
      "text/plain": [
       "    City_ID        City Country                 Date    Lat     Lng  Max Temp  \\\n",
       "3         3  Butaritari      KI  2020-07-11 15:10:21   3.07  172.79     82.42   \n",
       "13       13       Kutum      SD  2020-07-11 15:10:22  14.20   24.67     83.23   \n",
       "15       15      Touros      BR  2020-07-11 15:10:19  -5.20  -35.46     78.80   \n",
       "17       17      Albany      US  2020-07-11 15:06:44  42.60  -73.97     84.00   \n",
       "20       20       Kapaa      US  2020-07-11 15:10:09  22.08 -159.32     78.80   \n",
       "\n",
       "    Humidity  Cloudiness  Wind Speed  \n",
       "3         80         100       15.55  \n",
       "13        41          53        6.22  \n",
       "15        74          75       13.87  \n",
       "17        74          75        1.01  \n",
       "20        83          90       12.75  "
      ]
     },
     "execution_count": 11,
     "metadata": {},
     "output_type": "execute_result"
    }
   ],
   "source": [
    "# Filter the dataset to find the cities that fit the criteria.\n",
    "preferredCitiesDF = cityDataDF.loc[(cityDataDF[\"Max Temp\"]>=minTempInput) & (cityDataDF[\"Max Temp\"]<=maxTempInput)]\n",
    "preferredCitiesDF.head()"
   ]
  },
  {
   "cell_type": "code",
   "execution_count": 12,
   "metadata": {},
   "outputs": [
    {
     "data": {
      "text/plain": [
       "City_ID       178\n",
       "City          178\n",
       "Country       177\n",
       "Date          178\n",
       "Lat           178\n",
       "Lng           178\n",
       "Max Temp      178\n",
       "Humidity      178\n",
       "Cloudiness    178\n",
       "Wind Speed    178\n",
       "dtype: int64"
      ]
     },
     "execution_count": 12,
     "metadata": {},
     "output_type": "execute_result"
    }
   ],
   "source": [
    "# Check if the filtered data contains null values\n",
    "preferredCitiesDF.count()"
   ]
  },
  {
   "cell_type": "code",
   "execution_count": 13,
   "metadata": {},
   "outputs": [
    {
     "data": {
      "text/plain": [
       "City_ID       177\n",
       "City          177\n",
       "Country       177\n",
       "Date          177\n",
       "Lat           177\n",
       "Lng           177\n",
       "Max Temp      177\n",
       "Humidity      177\n",
       "Cloudiness    177\n",
       "Wind Speed    177\n",
       "dtype: int64"
      ]
     },
     "execution_count": 13,
     "metadata": {},
     "output_type": "execute_result"
    }
   ],
   "source": [
    "# Eliminate null values\n",
    "preferredCitiesDF = preferredCitiesDF.dropna()\n",
    "preferredCitiesDF.count()"
   ]
  },
  {
   "cell_type": "code",
   "execution_count": 14,
   "metadata": {},
   "outputs": [
    {
     "data": {
      "text/html": [
       "<div>\n",
       "<style scoped>\n",
       "    .dataframe tbody tr th:only-of-type {\n",
       "        vertical-align: middle;\n",
       "    }\n",
       "\n",
       "    .dataframe tbody tr th {\n",
       "        vertical-align: top;\n",
       "    }\n",
       "\n",
       "    .dataframe thead th {\n",
       "        text-align: right;\n",
       "    }\n",
       "</style>\n",
       "<table border=\"1\" class=\"dataframe\">\n",
       "  <thead>\n",
       "    <tr style=\"text-align: right;\">\n",
       "      <th></th>\n",
       "      <th>City</th>\n",
       "      <th>Country</th>\n",
       "      <th>Max Temp</th>\n",
       "      <th>Lat</th>\n",
       "      <th>Lng</th>\n",
       "      <th>Hotel Name</th>\n",
       "    </tr>\n",
       "  </thead>\n",
       "  <tbody>\n",
       "    <tr>\n",
       "      <th>3</th>\n",
       "      <td>Butaritari</td>\n",
       "      <td>KI</td>\n",
       "      <td>82.42</td>\n",
       "      <td>3.07</td>\n",
       "      <td>172.79</td>\n",
       "      <td></td>\n",
       "    </tr>\n",
       "    <tr>\n",
       "      <th>13</th>\n",
       "      <td>Kutum</td>\n",
       "      <td>SD</td>\n",
       "      <td>83.23</td>\n",
       "      <td>14.20</td>\n",
       "      <td>24.67</td>\n",
       "      <td></td>\n",
       "    </tr>\n",
       "    <tr>\n",
       "      <th>15</th>\n",
       "      <td>Touros</td>\n",
       "      <td>BR</td>\n",
       "      <td>78.80</td>\n",
       "      <td>-5.20</td>\n",
       "      <td>-35.46</td>\n",
       "      <td></td>\n",
       "    </tr>\n",
       "    <tr>\n",
       "      <th>17</th>\n",
       "      <td>Albany</td>\n",
       "      <td>US</td>\n",
       "      <td>84.00</td>\n",
       "      <td>42.60</td>\n",
       "      <td>-73.97</td>\n",
       "      <td></td>\n",
       "    </tr>\n",
       "    <tr>\n",
       "      <th>20</th>\n",
       "      <td>Kapaa</td>\n",
       "      <td>US</td>\n",
       "      <td>78.80</td>\n",
       "      <td>22.08</td>\n",
       "      <td>-159.32</td>\n",
       "      <td></td>\n",
       "    </tr>\n",
       "  </tbody>\n",
       "</table>\n",
       "</div>"
      ],
      "text/plain": [
       "          City Country  Max Temp    Lat     Lng Hotel Name\n",
       "3   Butaritari      KI     82.42   3.07  172.79           \n",
       "13       Kutum      SD     83.23  14.20   24.67           \n",
       "15      Touros      BR     78.80  -5.20  -35.46           \n",
       "17      Albany      US     84.00  42.60  -73.97           \n",
       "20       Kapaa      US     78.80  22.08 -159.32           "
      ]
     },
     "execution_count": 14,
     "metadata": {},
     "output_type": "execute_result"
    }
   ],
   "source": [
    "# Create DataFrame called hotelDF to store hotel names along with city, country, max temp, and coordinates.\n",
    "hotelDF = preferredCitiesDF[[\"City\", \"Country\", \"Max Temp\", \"Lat\", \"Lng\"]].copy()\n",
    "hotelDF[\"Hotel Name\"] = \"\"\n",
    "hotelDF.head()"
   ]
  },
  {
   "cell_type": "code",
   "execution_count": 15,
   "metadata": {
    "tags": []
   },
   "outputs": [
    {
     "name": "stdout",
     "output_type": "stream",
     "text": [
      "Hotel not found in city 'Albany'... skipping.\n",
      "Hotel not found in city 'Bondo'... skipping.\n",
      "Hotel not found in city 'Birao'... skipping.\n",
      "Hotel not found in city 'Caluquembe'... skipping.\n",
      "Hotel not found in city 'Luzon'... skipping.\n",
      "Hotel not found in city 'Zilair'... skipping.\n",
      "Hotel not found in city 'Ler'... skipping.\n",
      "Hotel not found in city 'Lebyazhye'... skipping.\n",
      "Hotel not found in city 'Chapayevka'... skipping.\n",
      "Hotel not found in city 'Taguatinga'... skipping.\n",
      "Hotel not found in city 'Garoafa'... skipping.\n",
      "Hotel not found in city 'Ndende'... skipping.\n",
      "Hotel not found in city 'Bonfim'... skipping.\n",
      "Hotel not found in city 'Barra Patuca'... skipping.\n",
      "Hotel not found in city 'Lusambo'... skipping.\n"
     ]
    }
   ],
   "source": [
    "# Set base url\n",
    "baseUrl = \"https://maps.googleapis.com/maps/api/place/nearbysearch/json\"\n",
    "# Set parameters to search for a hotel.\n",
    "params = {\"key\": gKey, \"radius\": 5000, \"type\": \"lodging\"}\n",
    "\n",
    "# Iterate through the DataFrame.\n",
    "for index, row in hotelDF.iterrows():\n",
    "    # Get the latitude and longitude.\n",
    "    lat = row[\"Lat\"]\n",
    "    lng = row[\"Lng\"]\n",
    "\n",
    "    # Add the latitude and longitude to location key for the params dictionary.\n",
    "    params[\"location\"] = f\"{lat},{lng}\"\n",
    "    \n",
    "    # Make request and get the JSON data from the search.\n",
    "    hotels = requests.get(baseUrl, params=params).json()\n",
    "    # Grab the first hotel from the results and store the name.\n",
    "    try:\n",
    "        # Grab the first hotel from the results and store the name.\n",
    "        hotelDF.loc[index, \"Hotel Name\"] = hotels[\"results\"][0][\"name\"]\n",
    "    except (IndexError):\n",
    "        print(f\"Hotel not found in city '{row['City']}'... skipping.\")\n"
   ]
  },
  {
   "cell_type": "code",
   "execution_count": 16,
   "metadata": {},
   "outputs": [
    {
     "data": {
      "text/html": [
       "<div>\n",
       "<style scoped>\n",
       "    .dataframe tbody tr th:only-of-type {\n",
       "        vertical-align: middle;\n",
       "    }\n",
       "\n",
       "    .dataframe tbody tr th {\n",
       "        vertical-align: top;\n",
       "    }\n",
       "\n",
       "    .dataframe thead th {\n",
       "        text-align: right;\n",
       "    }\n",
       "</style>\n",
       "<table border=\"1\" class=\"dataframe\">\n",
       "  <thead>\n",
       "    <tr style=\"text-align: right;\">\n",
       "      <th></th>\n",
       "      <th>City</th>\n",
       "      <th>Country</th>\n",
       "      <th>Max Temp</th>\n",
       "      <th>Lat</th>\n",
       "      <th>Lng</th>\n",
       "      <th>Hotel Name</th>\n",
       "    </tr>\n",
       "  </thead>\n",
       "  <tbody>\n",
       "    <tr>\n",
       "      <th>3</th>\n",
       "      <td>Butaritari</td>\n",
       "      <td>KI</td>\n",
       "      <td>82.42</td>\n",
       "      <td>3.07</td>\n",
       "      <td>172.79</td>\n",
       "      <td>Isles Sunset Lodge</td>\n",
       "    </tr>\n",
       "    <tr>\n",
       "      <th>13</th>\n",
       "      <td>Kutum</td>\n",
       "      <td>SD</td>\n",
       "      <td>83.23</td>\n",
       "      <td>14.20</td>\n",
       "      <td>24.67</td>\n",
       "      <td>Dibbo areaمنطقة دبو</td>\n",
       "    </tr>\n",
       "    <tr>\n",
       "      <th>15</th>\n",
       "      <td>Touros</td>\n",
       "      <td>BR</td>\n",
       "      <td>78.80</td>\n",
       "      <td>-5.20</td>\n",
       "      <td>-35.46</td>\n",
       "      <td>INN NEW HORIZON</td>\n",
       "    </tr>\n",
       "    <tr>\n",
       "      <th>17</th>\n",
       "      <td>Albany</td>\n",
       "      <td>US</td>\n",
       "      <td>84.00</td>\n",
       "      <td>42.60</td>\n",
       "      <td>-73.97</td>\n",
       "      <td></td>\n",
       "    </tr>\n",
       "    <tr>\n",
       "      <th>20</th>\n",
       "      <td>Kapaa</td>\n",
       "      <td>US</td>\n",
       "      <td>78.80</td>\n",
       "      <td>22.08</td>\n",
       "      <td>-159.32</td>\n",
       "      <td>Sheraton Kauai Resort at Coconut Beach</td>\n",
       "    </tr>\n",
       "  </tbody>\n",
       "</table>\n",
       "</div>"
      ],
      "text/plain": [
       "          City Country  Max Temp    Lat     Lng  \\\n",
       "3   Butaritari      KI     82.42   3.07  172.79   \n",
       "13       Kutum      SD     83.23  14.20   24.67   \n",
       "15      Touros      BR     78.80  -5.20  -35.46   \n",
       "17      Albany      US     84.00  42.60  -73.97   \n",
       "20       Kapaa      US     78.80  22.08 -159.32   \n",
       "\n",
       "                                Hotel Name  \n",
       "3                       Isles Sunset Lodge  \n",
       "13                     Dibbo areaمنطقة دبو  \n",
       "15                         INN NEW HORIZON  \n",
       "17                                          \n",
       "20  Sheraton Kauai Resort at Coconut Beach  "
      ]
     },
     "execution_count": 16,
     "metadata": {},
     "output_type": "execute_result"
    }
   ],
   "source": [
    "hotelDF.head()"
   ]
  },
  {
   "cell_type": "code",
   "execution_count": 18,
   "metadata": {},
   "outputs": [
    {
     "data": {
      "application/vnd.jupyter.widget-view+json": {
       "model_id": "64d1c4301f88417d87f44bbcf4c67b8a",
       "version_major": 2,
       "version_minor": 0
      },
      "text/plain": [
       "Figure(layout=FigureLayout(height='420px'))"
      ]
     },
     "metadata": {},
     "output_type": "display_data"
    }
   ],
   "source": [
    "# Heatmap from hotel DataFrame\n",
    "# ------------------------------------\n",
    "\n",
    "locations = hotelDF[[\"Lat\",\"Lng\"]]\n",
    "# Get the maximum temperature. (Avoid error in the heatmap_layer function as weight cannot be <0)\n",
    "temperatures = [max(temp,0) for temp in hotelDF[\"Max Temp\"]]\n",
    "fig = gmaps.figure(center=(30.0, 31.0), zoom_level=1.5)\n",
    "heatLayer = gmaps.heatmap_layer(locations, weights=temperatures, dissipating=False, max_intensity=300, point_radius=4)\n",
    "\n",
    "\n",
    "infoBoxTemplate = \"\"\"\n",
    "<dl>\n",
    "<dt>Hotel Name</dt><dd>{Hotel Name}</dd>\n",
    "<dt>City</dt><dd>{City}</dd>\n",
    "<dt>Country</dt><dd>{Country}</dd>\n",
    "<dt>Max Temp</dt><dd>{Max Temp} °F</dd>\n",
    "</dl>\n",
    "\"\"\"\n",
    "\n",
    "hotelInfo = [infoBoxTemplate.format(**row) for index, row in hotelDF.iterrows()]\n",
    "\n",
    "markerLayer = gmaps.marker_layer(locations,info_box_content=hotelInfo)\n",
    "fig.add_layer(markerLayer)\n",
    "fig.add_layer(heatLayer)\n",
    "\n",
    "# 6. Call the figure to plot the data.\n",
    "fig"
   ]
  },
  {
   "cell_type": "code",
   "execution_count": null,
   "metadata": {},
   "outputs": [],
   "source": []
  }
 ],
 "metadata": {
  "kernelspec": {
   "display_name": "Python 3.7.7 64-bit ('PythonData': conda)",
   "language": "python",
   "name": "python37764bitpythondatacondab808a03d3ba44ba58538b9e1c706f2bc"
  },
  "language_info": {
   "codemirror_mode": {
    "name": "ipython",
    "version": 3
   },
   "file_extension": ".py",
   "mimetype": "text/x-python",
   "name": "python",
   "nbconvert_exporter": "python",
   "pygments_lexer": "ipython3",
   "version": "3.7.7"
  }
 },
 "nbformat": 4,
 "nbformat_minor": 2
}
