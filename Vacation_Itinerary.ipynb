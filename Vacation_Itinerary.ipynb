{
 "cells": [
  {
   "cell_type": "code",
   "execution_count": 1,
   "metadata": {},
   "outputs": [],
   "source": [
    "import pandas as pd\n",
    "import os\n",
    "import gmaps\n",
    "\n",
    "# Import API Key\n",
    "from config import gKey"
   ]
  },
  {
   "cell_type": "code",
   "execution_count": 2,
   "metadata": {},
   "outputs": [],
   "source": [
    "# Read data from csv file\n",
    "fileToLoad = os.path.join(\"data\", \"WeatherPy_vacation.csv\")\n",
    "vacationDF = pd.read_csv(fileToLoad)"
   ]
  },
  {
   "cell_type": "code",
   "execution_count": 3,
   "metadata": {},
   "outputs": [],
   "source": [
    "# Extract data for four chosen cities: Bogande, Kolokani, Nouakchott, Oussouye (Africa)\n",
    "\n",
    "cityADF = vacationDF.loc[(vacationDF[\"City\"] == \"Bogande\")]\n",
    "cityBDF = vacationDF.loc[(vacationDF[\"City\"] == \"Kolokani\")]\n",
    "cityCDF = vacationDF.loc[(vacationDF[\"City\"] == \"Nouakchott\")]\n",
    "cityDDF = vacationDF.loc[(vacationDF[\"City\"] == \"Oussouye\")]\n"
   ]
  },
  {
   "cell_type": "code",
   "execution_count": 4,
   "metadata": {},
   "outputs": [],
   "source": [
    "# Get pair of latitude, longitud for each city\n",
    "locationA = cityADF[[\"Lat\",\"Lng\"]].to_numpy()[0]\n",
    "locationB = cityBDF[[\"Lat\",\"Lng\"]].to_numpy()[0]\n",
    "locationC = cityCDF[[\"Lat\",\"Lng\"]].to_numpy()[0]\n",
    "locationD = cityDDF[[\"Lat\",\"Lng\"]].to_numpy()[0]"
   ]
  },
  {
   "cell_type": "code",
   "execution_count": 5,
   "metadata": {},
   "outputs": [
    {
     "data": {
      "application/vnd.jupyter.widget-view+json": {
       "model_id": "0a2ac98ef04946adbecbfdb31eb633bb",
       "version_major": 2,
       "version_minor": 0
      },
      "text/plain": [
       "Figure(layout=FigureLayout(height='420px'))"
      ]
     },
     "metadata": {},
     "output_type": "display_data"
    }
   ],
   "source": [
    "# Create a map with directions layer\n",
    "# ------------------------------------\n",
    "\n",
    "# Import Google Maps API key\n",
    "gmaps.configure(gKey)\n",
    "\n",
    "# Latitude-longitude pairs\n",
    "coordinatesA = (locationA[0], locationA[1])\n",
    "coordinatesB = (locationB[0], locationB[1])\n",
    "coordinatesC = (locationC[0], locationC[1])\n",
    "coordinatesD = (locationD[0], locationD[1])\n",
    "\n",
    "fig = gmaps.figure()\n",
    "indiaItinerary = gmaps.directions_layer(\n",
    "        coordinatesA, coordinatesD, waypoints=[coordinatesB,coordinatesC],\n",
    "        travel_mode='DRIVING')\n",
    "fig.add_layer(indiaItinerary)\n",
    "fig"
   ]
  },
  {
   "cell_type": "code",
   "execution_count": 6,
   "metadata": {},
   "outputs": [
    {
     "data": {
      "text/html": [
       "<div>\n",
       "<style scoped>\n",
       "    .dataframe tbody tr th:only-of-type {\n",
       "        vertical-align: middle;\n",
       "    }\n",
       "\n",
       "    .dataframe tbody tr th {\n",
       "        vertical-align: top;\n",
       "    }\n",
       "\n",
       "    .dataframe thead th {\n",
       "        text-align: right;\n",
       "    }\n",
       "</style>\n",
       "<table border=\"1\" class=\"dataframe\">\n",
       "  <thead>\n",
       "    <tr style=\"text-align: right;\">\n",
       "      <th></th>\n",
       "      <th>City_ID</th>\n",
       "      <th>City</th>\n",
       "      <th>Country</th>\n",
       "      <th>Max Temp</th>\n",
       "      <th>Current Description</th>\n",
       "      <th>Lat</th>\n",
       "      <th>Lng</th>\n",
       "      <th>Hotel Name</th>\n",
       "    </tr>\n",
       "  </thead>\n",
       "  <tbody>\n",
       "    <tr>\n",
       "      <th>76</th>\n",
       "      <td>349</td>\n",
       "      <td>Bogande</td>\n",
       "      <td>BF</td>\n",
       "      <td>80.46</td>\n",
       "      <td>overcast clouds</td>\n",
       "      <td>12.97</td>\n",
       "      <td>-0.14</td>\n",
       "      <td>CSPS DE WALLIN</td>\n",
       "    </tr>\n",
       "    <tr>\n",
       "      <th>90</th>\n",
       "      <td>405</td>\n",
       "      <td>Kolokani</td>\n",
       "      <td>ML</td>\n",
       "      <td>80.42</td>\n",
       "      <td>broken clouds</td>\n",
       "      <td>13.57</td>\n",
       "      <td>-8.03</td>\n",
       "      <td>Lycee Famolo Coulibalibali De Kolokani</td>\n",
       "    </tr>\n",
       "    <tr>\n",
       "      <th>120</th>\n",
       "      <td>513</td>\n",
       "      <td>Nouakchott</td>\n",
       "      <td>MR</td>\n",
       "      <td>80.60</td>\n",
       "      <td>few clouds</td>\n",
       "      <td>18.09</td>\n",
       "      <td>-15.98</td>\n",
       "      <td>Hôtel Iman</td>\n",
       "    </tr>\n",
       "    <tr>\n",
       "      <th>83</th>\n",
       "      <td>373</td>\n",
       "      <td>Oussouye</td>\n",
       "      <td>SN</td>\n",
       "      <td>80.60</td>\n",
       "      <td>broken clouds</td>\n",
       "      <td>12.48</td>\n",
       "      <td>-16.55</td>\n",
       "      <td>Auberge du Routard</td>\n",
       "    </tr>\n",
       "  </tbody>\n",
       "</table>\n",
       "</div>"
      ],
      "text/plain": [
       "     City_ID        City Country  Max Temp Current Description    Lat    Lng  \\\n",
       "76       349     Bogande      BF     80.46     overcast clouds  12.97  -0.14   \n",
       "90       405    Kolokani      ML     80.42       broken clouds  13.57  -8.03   \n",
       "120      513  Nouakchott      MR     80.60          few clouds  18.09 -15.98   \n",
       "83       373    Oussouye      SN     80.60       broken clouds  12.48 -16.55   \n",
       "\n",
       "                                 Hotel Name  \n",
       "76                           CSPS DE WALLIN  \n",
       "90   Lycee Famolo Coulibalibali De Kolokani  \n",
       "120                              Hôtel Iman  \n",
       "83                       Auberge du Routard  "
      ]
     },
     "execution_count": 6,
     "metadata": {},
     "output_type": "execute_result"
    }
   ],
   "source": [
    "# Create a map with markers layer\n",
    "# ------------------------------------\n",
    "\n",
    "# Combine four cities DataFrames\n",
    "intineraryDF = pd.concat([cityADF,cityBDF,cityCDF,cityDDF])\n",
    "intineraryDF"
   ]
  },
  {
   "cell_type": "code",
   "execution_count": 7,
   "metadata": {
    "scrolled": true
   },
   "outputs": [
    {
     "data": {
      "application/vnd.jupyter.widget-view+json": {
       "model_id": "513e3aa0b1c54f4f9b6f6f0847d2dede",
       "version_major": 2,
       "version_minor": 0
      },
      "text/plain": [
       "Figure(layout=FigureLayout(height='420px'))"
      ]
     },
     "metadata": {},
     "output_type": "display_data"
    }
   ],
   "source": [
    "# Center and zoom map appropriately\n",
    "# fig = gmaps.figure(center=(30.0, 31.0), zoom_level=1.5)\n",
    "fig = gmaps.figure()\n",
    "\n",
    "locations = intineraryDF[[\"Lat\",\"Lng\"]]\n",
    "\n",
    "infoBoxTemplate = \"\"\"\n",
    "<dl>\n",
    "<dt>Hotel Name</dt><dd>{Hotel Name}</dd>\n",
    "<dt>City</dt><dd>{City}</dd>\n",
    "<dt>Country</dt><dd>{Country}</dd>\n",
    "<dt>Current weather</dt><dd>{Current Description} and {Max Temp} °F</dd>\n",
    "</dl>\n",
    "\"\"\"\n",
    "\n",
    "intineraryInfo = [infoBoxTemplate.format(**row) for index, row in intineraryDF.iterrows()]\n",
    "\n",
    "markerLayer = gmaps.marker_layer(locations,info_box_content=intineraryInfo)\n",
    "fig.add_layer(markerLayer)\n",
    "\n",
    "# 6. Call the figure to plot the data.\n",
    "fig"
   ]
  },
  {
   "cell_type": "code",
   "execution_count": null,
   "metadata": {},
   "outputs": [],
   "source": []
  }
 ],
 "metadata": {
  "kernelspec": {
   "display_name": "Python 3.7.7 64-bit ('PythonData': conda)",
   "language": "python",
   "name": "python37764bitpythondatacondab808a03d3ba44ba58538b9e1c706f2bc"
  },
  "language_info": {
   "codemirror_mode": {
    "name": "ipython",
    "version": 3
   },
   "file_extension": ".py",
   "mimetype": "text/x-python",
   "name": "python",
   "nbconvert_exporter": "python",
   "pygments_lexer": "ipython3",
   "version": "3.7.7"
  }
 },
 "nbformat": 4,
 "nbformat_minor": 4
}
