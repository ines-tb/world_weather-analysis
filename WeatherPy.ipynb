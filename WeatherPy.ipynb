{
 "cells": [
  {
   "cell_type": "code",
   "execution_count": 15,
   "metadata": {},
   "outputs": [],
   "source": [
    "# Import dependencies \n",
    "import pandas as pd\n",
    "import numpy as np\n",
    "import matplotlib.pyplot as plt\n",
    "from citipy import citipy\n",
    "import requests\n",
    "# Import config file\n",
    "from config import weatherApiKey\n",
    "# Import the datetime module from the datetime library.\n",
    "from datetime import datetime"
   ]
  },
  {
   "cell_type": "code",
   "execution_count": 2,
   "metadata": {},
   "outputs": [
    {
     "output_type": "execute_result",
     "data": {
      "text/plain": "<zip at 0x1fd76d4e7c8>"
     },
     "metadata": {},
     "execution_count": 2
    }
   ],
   "source": [
    "# Create a set of random latitude and longitude combinations.\n",
    "lats = np.random.uniform(low=-90.000, high=90.000, size=1500)\n",
    "lngs = np.random.uniform(low=-180.000, high=180.000, size=1500)\n",
    "latLngs = zip(lats, lngs)\n",
    "latLngs"
   ]
  },
  {
   "cell_type": "code",
   "execution_count": 3,
   "metadata": {},
   "outputs": [
    {
     "output_type": "execute_result",
     "data": {
      "text/plain": "[(18.475477073524218, 139.4434514643786),\n (-41.30877466178399, 114.01105141993935),\n (77.18500195838931, -122.48667905695498),\n (2.55492639999558, -97.00566994763118),\n (-78.48276883610872, -167.664070976894)]"
     },
     "metadata": {},
     "execution_count": 3
    }
   ],
   "source": [
    "# Covert the latitudes and longitudes from zip object into a list\n",
    "coordinates = list(latLngs)\n",
    "coordinates[0:5]"
   ]
  },
  {
   "cell_type": "code",
   "execution_count": 4,
   "metadata": {},
   "outputs": [
    {
     "output_type": "execute_result",
     "data": {
      "text/plain": "618"
     },
     "metadata": {},
     "execution_count": 4
    }
   ],
   "source": [
    "# Create a list for holding the cities.\n",
    "cities = []\n",
    "# Identify the nearest city for each latitude and longitude combination.\n",
    "for coordinate in coordinates:\n",
    "    city = citipy.nearest_city(coordinate[0], coordinate[1]).city_name\n",
    "    # If the city is unique, then we will add it to the cities list.\n",
    "    if city not in cities:\n",
    "        cities.append(city)\n",
    "# Print the city count to confirm sufficient count\n",
    "len(cities)"
   ]
  },
  {
   "cell_type": "code",
   "execution_count": 10,
   "metadata": {
    "tags": [
     "outputPrepend"
    ]
   },
   "outputs": [
    {
     "output_type": "stream",
     "name": "stdout",
     "text": "of Set 4 | north bend\nProcessing Record 13 of Set 4 | provideniya\nProcessing Record 14 of Set 4 | ponta do sol\nProcessing Record 15 of Set 4 | tavricheskoye\nProcessing Record 16 of Set 4 | abu jubayhah\nCity not found. Skipping...\nProcessing Record 17 of Set 4 | dunedin\nProcessing Record 18 of Set 4 | hithadhoo\nProcessing Record 19 of Set 4 | gawler\nProcessing Record 20 of Set 4 | egvekinot\nProcessing Record 21 of Set 4 | iqaluit\nProcessing Record 22 of Set 4 | luderitz\nProcessing Record 23 of Set 4 | nioro\nProcessing Record 24 of Set 4 | chengde\nProcessing Record 25 of Set 4 | baykit\nProcessing Record 26 of Set 4 | husavik\nProcessing Record 27 of Set 4 | saint-pierre\nProcessing Record 28 of Set 4 | san borja\nProcessing Record 29 of Set 4 | saint anthony\nProcessing Record 30 of Set 4 | narsaq\nProcessing Record 31 of Set 4 | cambridge\nProcessing Record 32 of Set 4 | amapa\nProcessing Record 33 of Set 4 | sorvag\nCity not found. Skipping...\nProcessing Record 34 of Set 4 | grand junction\nProcessing Record 35 of Set 4 | yanan\nCity not found. Skipping...\nProcessing Record 36 of Set 4 | ossora\nProcessing Record 37 of Set 4 | itupiranga\nProcessing Record 38 of Set 4 | kaeo\nProcessing Record 39 of Set 4 | storm lake\nProcessing Record 40 of Set 4 | puerto el triunfo\nProcessing Record 41 of Set 4 | sompeta\nProcessing Record 42 of Set 4 | buraydah\nProcessing Record 43 of Set 4 | cagdianao\nProcessing Record 44 of Set 4 | darab\nProcessing Record 45 of Set 4 | labytnangi\nProcessing Record 46 of Set 4 | lokomotivnyy\nProcessing Record 47 of Set 4 | tarko-sale\nProcessing Record 48 of Set 4 | deoria\nProcessing Record 49 of Set 4 | tiarei\nProcessing Record 50 of Set 4 | mnogovershinnyy\nProcessing Record 1 of Set 5 | port-cartier\nProcessing Record 2 of Set 5 | itoman\nProcessing Record 3 of Set 5 | rawson\nProcessing Record 4 of Set 5 | juba\nProcessing Record 5 of Set 5 | gurupi\nProcessing Record 6 of Set 5 | ahipara\nProcessing Record 7 of Set 5 | kaitangata\nProcessing Record 8 of Set 5 | marquette\nProcessing Record 9 of Set 5 | adalsbruk\nCity not found. Skipping...\nProcessing Record 10 of Set 5 | bay roberts\nProcessing Record 11 of Set 5 | isangel\nProcessing Record 12 of Set 5 | tehachapi\nProcessing Record 13 of Set 5 | ponta delgada\nProcessing Record 14 of Set 5 | faanui\nProcessing Record 15 of Set 5 | yulara\nProcessing Record 16 of Set 5 | slave lake\nProcessing Record 17 of Set 5 | tasiilaq\nProcessing Record 18 of Set 5 | talnakh\nProcessing Record 19 of Set 5 | majene\nProcessing Record 20 of Set 5 | kavaratti\nProcessing Record 21 of Set 5 | beringovskiy\nProcessing Record 22 of Set 5 | maniitsoq\nProcessing Record 23 of Set 5 | nome\nProcessing Record 24 of Set 5 | yar-sale\nProcessing Record 25 of Set 5 | bondowoso\nProcessing Record 26 of Set 5 | poronaysk\nProcessing Record 27 of Set 5 | plainview\nProcessing Record 28 of Set 5 | urdzhar\nCity not found. Skipping...\nProcessing Record 29 of Set 5 | tiznit\nProcessing Record 30 of Set 5 | sola\nProcessing Record 31 of Set 5 | conceicao do araguaia\nProcessing Record 32 of Set 5 | olafsvik\nProcessing Record 33 of Set 5 | el calvario\nProcessing Record 34 of Set 5 | attawapiskat\nCity not found. Skipping...\nProcessing Record 35 of Set 5 | mae hong son\nProcessing Record 36 of Set 5 | matadi\nProcessing Record 37 of Set 5 | tayshet\nProcessing Record 38 of Set 5 | tromso\nProcessing Record 39 of Set 5 | lebu\nProcessing Record 40 of Set 5 | bantry\nProcessing Record 41 of Set 5 | solovetskiy\nCity not found. Skipping...\nProcessing Record 42 of Set 5 | chivilcoy\nProcessing Record 43 of Set 5 | vardo\nProcessing Record 44 of Set 5 | coahuayana\nProcessing Record 45 of Set 5 | deputatskiy\nProcessing Record 46 of Set 5 | bengkulu\nProcessing Record 47 of Set 5 | ormara\nProcessing Record 48 of Set 5 | hondo\nProcessing Record 49 of Set 5 | galle\nProcessing Record 50 of Set 5 | koumac\nProcessing Record 1 of Set 6 | thompson\nProcessing Record 2 of Set 6 | vanavara\nProcessing Record 3 of Set 6 | vila velha\nProcessing Record 4 of Set 6 | manjacaze\nProcessing Record 5 of Set 6 | pevek\nProcessing Record 6 of Set 6 | dakar\nProcessing Record 7 of Set 6 | ugoofaaru\nProcessing Record 8 of Set 6 | santa isabel do rio negro\nProcessing Record 9 of Set 6 | nanma\nProcessing Record 10 of Set 6 | mandurah\nProcessing Record 11 of Set 6 | floro\nProcessing Record 12 of Set 6 | hamilton\nProcessing Record 13 of Set 6 | sikasso\nProcessing Record 14 of Set 6 | qaanaaq\nProcessing Record 15 of Set 6 | vestmannaeyjar\nProcessing Record 16 of Set 6 | saint-augustin\nProcessing Record 17 of Set 6 | praesto\nProcessing Record 18 of Set 6 | hirara\nProcessing Record 19 of Set 6 | teeli\nProcessing Record 20 of Set 6 | buala\nProcessing Record 21 of Set 6 | phalaborwa\nProcessing Record 22 of Set 6 | teguldet\nProcessing Record 23 of Set 6 | amderma\nCity not found. Skipping...\nProcessing Record 24 of Set 6 | nayoro\nProcessing Record 25 of Set 6 | toliary\nCity not found. Skipping...\nProcessing Record 26 of Set 6 | stykkisholmur\nProcessing Record 27 of Set 6 | valparaiso\nProcessing Record 28 of Set 6 | rocha\nProcessing Record 29 of Set 6 | kloulklubed\nProcessing Record 30 of Set 6 | sao filipe\nProcessing Record 31 of Set 6 | benque viejo\nCity not found. Skipping...\nProcessing Record 32 of Set 6 | miracatu\nProcessing Record 33 of Set 6 | betare oya\nProcessing Record 34 of Set 6 | gushikawa\nProcessing Record 35 of Set 6 | tuy hoa\nProcessing Record 36 of Set 6 | hanzhong\nProcessing Record 37 of Set 6 | bushehr\nProcessing Record 38 of Set 6 | mersing\nProcessing Record 39 of Set 6 | ranong\nProcessing Record 40 of Set 6 | nanortalik\nProcessing Record 41 of Set 6 | wulanhaote\nCity not found. Skipping...\nProcessing Record 42 of Set 6 | portland\nProcessing Record 43 of Set 6 | sayyan\nProcessing Record 44 of Set 6 | svetlyy\nProcessing Record 45 of Set 6 | pihani\nProcessing Record 46 of Set 6 | nikolskoye\nProcessing Record 47 of Set 6 | codrington\nProcessing Record 48 of Set 6 | havre-saint-pierre\nProcessing Record 49 of Set 6 | broome\nProcessing Record 50 of Set 6 | constitucion\nProcessing Record 1 of Set 7 | rio gallegos\nProcessing Record 2 of Set 7 | souillac\nProcessing Record 3 of Set 7 | salinopolis\nProcessing Record 4 of Set 7 | lithgow\nProcessing Record 5 of Set 7 | ouidah\nProcessing Record 6 of Set 7 | charters towers\nProcessing Record 7 of Set 7 | phuket\nProcessing Record 8 of Set 7 | bilma\nProcessing Record 9 of Set 7 | bolekhiv\nProcessing Record 10 of Set 7 | caravelas\nProcessing Record 11 of Set 7 | antsohihy\nProcessing Record 12 of Set 7 | senneterre\nProcessing Record 13 of Set 7 | iskateley\nProcessing Record 14 of Set 7 | lahij\nProcessing Record 15 of Set 7 | vao\nProcessing Record 16 of Set 7 | san vicente\nProcessing Record 17 of Set 7 | brae\nProcessing Record 18 of Set 7 | lorengau\nProcessing Record 19 of Set 7 | french harbor\nProcessing Record 20 of Set 7 | necochea\nProcessing Record 21 of Set 7 | flinders\nProcessing Record 22 of Set 7 | torbay\nProcessing Record 23 of Set 7 | waipawa\nProcessing Record 24 of Set 7 | kodiak\nProcessing Record 25 of Set 7 | grand river south east\nCity not found. Skipping...\nProcessing Record 26 of Set 7 | axixa do tocantins\nCity not found. Skipping...\nProcessing Record 27 of Set 7 | gravdal\nProcessing Record 28 of Set 7 | sungaipenuh\nProcessing Record 29 of Set 7 | turinskaya sloboda\nProcessing Record 30 of Set 7 | amahai\nProcessing Record 31 of Set 7 | ofaqim\nProcessing Record 32 of Set 7 | kalmunai\nProcessing Record 33 of Set 7 | turukhansk\nProcessing Record 34 of Set 7 | meulaboh\nProcessing Record 35 of Set 7 | cururupu\nProcessing Record 36 of Set 7 | binga\nProcessing Record 37 of Set 7 | pandan\nProcessing Record 38 of Set 7 | szekszard\nProcessing Record 39 of Set 7 | anadyr\nProcessing Record 40 of Set 7 | caucasia\nProcessing Record 41 of Set 7 | kjollefjord\nProcessing Record 42 of Set 7 | armidale\nProcessing Record 43 of Set 7 | lata\nProcessing Record 44 of Set 7 | grindavik\nProcessing Record 45 of Set 7 | pasni\nProcessing Record 46 of Set 7 | pafos\nProcessing Record 47 of Set 7 | bandarbeyla\nProcessing Record 48 of Set 7 | meyungs\nCity not found. Skipping...\nProcessing Record 49 of Set 7 | nogliki\nProcessing Record 50 of Set 7 | freeport\nProcessing Record 1 of Set 8 | ladario\nProcessing Record 2 of Set 8 | abonnema\nProcessing Record 3 of Set 8 | dharchula\nProcessing Record 4 of Set 8 | todos santos\nProcessing Record 5 of Set 8 | vaitupu\nCity not found. Skipping...\nProcessing Record 6 of Set 8 | santa marta\nProcessing Record 7 of Set 8 | vereya\nProcessing Record 8 of Set 8 | castro\nProcessing Record 9 of Set 8 | kisangani\nProcessing Record 10 of Set 8 | westport\nProcessing Record 11 of Set 8 | belton\nProcessing Record 12 of Set 8 | leningradskiy\nProcessing Record 13 of Set 8 | sentyabrskiy\nCity not found. Skipping...\nProcessing Record 14 of Set 8 | mehamn\nProcessing Record 15 of Set 8 | rio cuarto\nProcessing Record 16 of Set 8 | seguin\nProcessing Record 17 of Set 8 | san miguel chicaj\nProcessing Record 18 of Set 8 | qaqortoq\nProcessing Record 19 of Set 8 | khatanga\nProcessing Record 20 of Set 8 | caico\nProcessing Record 21 of Set 8 | boende\nProcessing Record 22 of Set 8 | barreirinhas\nProcessing Record 23 of Set 8 | hami\nProcessing Record 24 of Set 8 | esperance\nProcessing Record 25 of Set 8 | brodokalmak\nProcessing Record 26 of Set 8 | macduff\nProcessing Record 27 of Set 8 | kodinsk\nProcessing Record 28 of Set 8 | stephenville crossing\nProcessing Record 29 of Set 8 | muros\nProcessing Record 30 of Set 8 | umzimvubu\nCity not found. Skipping...\nProcessing Record 31 of Set 8 | hay river\nProcessing Record 32 of Set 8 | warri\nProcessing Record 33 of Set 8 | harper\nProcessing Record 34 of Set 8 | west richland\nProcessing Record 35 of Set 8 | jacareacanga\nProcessing Record 36 of Set 8 | port keats\nProcessing Record 37 of Set 8 | pilar\nProcessing Record 38 of Set 8 | winnemucca\nProcessing Record 39 of Set 8 | sohag\nProcessing Record 40 of Set 8 | fort-shevchenko\nProcessing Record 41 of Set 8 | idanre\nProcessing Record 42 of Set 8 | sorong\nProcessing Record 43 of Set 8 | emba\nProcessing Record 44 of Set 8 | oloron-sainte-marie\nProcessing Record 45 of Set 8 | greer\nProcessing Record 46 of Set 8 | manokwari\nProcessing Record 47 of Set 8 | evensk\nProcessing Record 48 of Set 8 | severnoye\nProcessing Record 49 of Set 8 | baoning\nProcessing Record 50 of Set 8 | rio verde de mato grosso\nProcessing Record 1 of Set 9 | roald\nProcessing Record 2 of Set 9 | hambantota\nProcessing Record 3 of Set 9 | benicarlo\nProcessing Record 4 of Set 9 | jefferson city\nProcessing Record 5 of Set 9 | hailar\nProcessing Record 6 of Set 9 | nuuk\nProcessing Record 7 of Set 9 | maragogi\nProcessing Record 8 of Set 9 | tumannyy\nCity not found. Skipping...\nProcessing Record 9 of Set 9 | kurilsk\nProcessing Record 10 of Set 9 | ribeira brava\nProcessing Record 11 of Set 9 | batemans bay\nProcessing Record 12 of Set 9 | mutata\nProcessing Record 13 of Set 9 | fairbanks\nProcessing Record 14 of Set 9 | calamar\nProcessing Record 15 of Set 9 | sitka\nProcessing Record 16 of Set 9 | palabuhanratu\nCity not found. Skipping...\nProcessing Record 17 of Set 9 | acajutla\nProcessing Record 18 of Set 9 | okakarara\nProcessing Record 19 of Set 9 | acapulco\nProcessing Record 20 of Set 9 | taoudenni\nProcessing Record 21 of Set 9 | tobol\nProcessing Record 22 of Set 9 | los alamos\nProcessing Record 23 of Set 9 | ronne\nProcessing Record 24 of Set 9 | tongliao\nProcessing Record 25 of Set 9 | ningan\nCity not found. Skipping...\nProcessing Record 26 of Set 9 | nanjing\nProcessing Record 27 of Set 9 | olinda\nProcessing Record 28 of Set 9 | garden city\nProcessing Record 29 of Set 9 | doschatoye\nProcessing Record 30 of Set 9 | tunxi\nCity not found. Skipping...\nProcessing Record 31 of Set 9 | izmit\nProcessing Record 32 of Set 9 | hun\nProcessing Record 33 of Set 9 | pimentel\nProcessing Record 34 of Set 9 | kawalu\nProcessing Record 35 of Set 9 | georgetown\nProcessing Record 36 of Set 9 | tsihombe\nCity not found. Skipping...\nProcessing Record 37 of Set 9 | san cristobal\nProcessing Record 38 of Set 9 | gizo\nProcessing Record 39 of Set 9 | port blair\nProcessing Record 40 of Set 9 | ilulissat\nProcessing Record 41 of Set 9 | tamuin\nProcessing Record 42 of Set 9 | sheffield\nProcessing Record 43 of Set 9 | saravan\nProcessing Record 44 of Set 9 | kudahuvadhoo\nProcessing Record 45 of Set 9 | el faiyum\nCity not found. Skipping...\nProcessing Record 46 of Set 9 | panubigan\nProcessing Record 47 of Set 9 | hovd\nProcessing Record 48 of Set 9 | normandin\nProcessing Record 49 of Set 9 | malwan\nCity not found. Skipping...\nProcessing Record 50 of Set 9 | valmiera\nProcessing Record 1 of Set 10 | shimoda\nProcessing Record 2 of Set 10 | los llanos de aridane\nProcessing Record 3 of Set 10 | comodoro rivadavia\nProcessing Record 4 of Set 10 | sao joao da barra\nProcessing Record 5 of Set 10 | la orilla\nProcessing Record 6 of Set 10 | paradwip\nCity not found. Skipping...\nProcessing Record 7 of Set 10 | claudio\nProcessing Record 8 of Set 10 | mayo\nProcessing Record 9 of Set 10 | yishui\nProcessing Record 10 of Set 10 | lajeado\nProcessing Record 11 of Set 10 | batken\nProcessing Record 12 of Set 10 | fare\nProcessing Record 13 of Set 10 | bridlington\nProcessing Record 14 of Set 10 | usakos\nProcessing Record 15 of Set 10 | waddan\nProcessing Record 16 of Set 10 | yumen\nProcessing Record 17 of Set 10 | sahuaripa\nProcessing Record 18 of Set 10 | lagoa\nProcessing Record 19 of Set 10 | makakilo city\nProcessing Record 20 of Set 10 | auki\nProcessing Record 21 of Set 10 | pidhorodne\nProcessing Record 22 of Set 10 | taunggyi\nProcessing Record 23 of Set 10 | itaberai\nProcessing Record 24 of Set 10 | raga\nProcessing Record 25 of Set 10 | pavlovka\nProcessing Record 26 of Set 10 | cidreira\nProcessing Record 27 of Set 10 | makung\nCity not found. Skipping...\nProcessing Record 28 of Set 10 | bria\nProcessing Record 29 of Set 10 | kostino\nProcessing Record 30 of Set 10 | umm lajj\nProcessing Record 31 of Set 10 | san francisco del mar\nProcessing Record 32 of Set 10 | riviere-au-renard\nProcessing Record 33 of Set 10 | togur\nProcessing Record 34 of Set 10 | alihe\nProcessing Record 35 of Set 10 | mareeba\nProcessing Record 36 of Set 10 | isfana\nProcessing Record 37 of Set 10 | gorontalo\nProcessing Record 38 of Set 10 | kutum\nProcessing Record 39 of Set 10 | isla vista\nProcessing Record 40 of Set 10 | kamenka\nProcessing Record 41 of Set 10 | ngunguru\nProcessing Record 42 of Set 10 | penzance\nProcessing Record 43 of Set 10 | ust-nera\nProcessing Record 44 of Set 10 | nova ushytsya\nProcessing Record 45 of Set 10 | tautira\nProcessing Record 46 of Set 10 | san patricio\nProcessing Record 47 of Set 10 | la paz\nProcessing Record 48 of Set 10 | beloha\nProcessing Record 49 of Set 10 | bangassou\nProcessing Record 50 of Set 10 | la gomera\nProcessing Record 1 of Set 11 | touros\nProcessing Record 2 of Set 11 | kirakira\nProcessing Record 3 of Set 11 | aubagne\nProcessing Record 4 of Set 11 | port macquarie\nProcessing Record 5 of Set 11 | gat\nProcessing Record 6 of Set 11 | college\nProcessing Record 7 of Set 11 | aflu\nCity not found. Skipping...\nProcessing Record 8 of Set 11 | ankang\nProcessing Record 9 of Set 11 | sambava\nProcessing Record 10 of Set 11 | bathsheba\nProcessing Record 11 of Set 11 | numazu\nProcessing Record 12 of Set 11 | oussouye\nProcessing Record 13 of Set 11 | yerkoy\nProcessing Record 14 of Set 11 | uyuni\nProcessing Record 15 of Set 11 | belyy\nProcessing Record 16 of Set 11 | fukue\nProcessing Record 17 of Set 11 | katha\nCity not found. Skipping...\nProcessing Record 18 of Set 11 | barhi\nProcessing Record 19 of Set 11 | tuatapere\nProcessing Record 20 of Set 11 | mataram\nProcessing Record 21 of Set 11 | gasa\nProcessing Record 22 of Set 11 | altamont\nProcessing Record 23 of Set 11 | corralillo\nProcessing Record 24 of Set 11 | ruatoria\nCity not found. Skipping...\nProcessing Record 25 of Set 11 | santa rosa\nProcessing Record 26 of Set 11 | yakeshi\nProcessing Record 27 of Set 11 | katsuura\nProcessing Record 28 of Set 11 | aosta\nProcessing Record 29 of Set 11 | alugan\nProcessing Record 30 of Set 11 | carahue\nProcessing Record 31 of Set 11 | biryusinsk\nProcessing Record 32 of Set 11 | mount gambier\nProcessing Record 33 of Set 11 | saskylakh\nProcessing Record 34 of Set 11 | lakes entrance\nProcessing Record 35 of Set 11 | milton\nProcessing Record 36 of Set 11 | igarka\nProcessing Record 37 of Set 11 | las guacamayas\nProcessing Record 38 of Set 11 | viedma\nProcessing Record 39 of Set 11 | coquimbo\nProcessing Record 40 of Set 11 | buqayq\nCity not found. Skipping...\nProcessing Record 41 of Set 11 | itarema\nProcessing Record 42 of Set 11 | huarmey\nProcessing Record 43 of Set 11 | coruripe\nProcessing Record 44 of Set 11 | espinosa\nProcessing Record 45 of Set 11 | kahului\nProcessing Record 46 of Set 11 | dudinka\nProcessing Record 47 of Set 11 | barcelos\nProcessing Record 48 of Set 11 | mount isa\nProcessing Record 49 of Set 11 | toulepleu\nCity not found. Skipping...\nProcessing Record 50 of Set 11 | komsomolskiy\nProcessing Record 1 of Set 12 | dwarka\nProcessing Record 2 of Set 12 | san jose\nProcessing Record 3 of Set 12 | mancheral\nProcessing Record 4 of Set 12 | apango\nProcessing Record 5 of Set 12 | aguimes\nProcessing Record 6 of Set 12 | anori\nProcessing Record 7 of Set 12 | kemijarvi\nProcessing Record 8 of Set 12 | bilibino\nProcessing Record 9 of Set 12 | udachnyy\nProcessing Record 10 of Set 12 | buchanan\nProcessing Record 11 of Set 12 | arlit\nProcessing Record 12 of Set 12 | ketchikan\nProcessing Record 13 of Set 12 | eyl\nProcessing Record 14 of Set 12 | tamboril\nProcessing Record 15 of Set 12 | kurchatov\nProcessing Record 16 of Set 12 | at-bashi\nProcessing Record 17 of Set 12 | stokmarknes\nProcessing Record 18 of Set 12 | kuvandyk\nProcessing Record 19 of Set 12 | ornskoldsvik\nProcessing Record 20 of Set 12 | umm kaddadah\nProcessing Record 21 of Set 12 | ostrovnoy\nProcessing Record 22 of Set 12 | singapore\nProcessing Record 23 of Set 12 | terra rica\nProcessing Record 24 of Set 12 | pacific grove\nProcessing Record 25 of Set 12 | hastings\nProcessing Record 26 of Set 12 | tessalit\nProcessing Record 27 of Set 12 | srednekolymsk\nProcessing Record 28 of Set 12 | wanning\nProcessing Record 29 of Set 12 | kenai\nProcessing Record 30 of Set 12 | olga\nProcessing Record 31 of Set 12 | pangnirtung\nProcessing Record 32 of Set 12 | padang\nProcessing Record 33 of Set 12 | ambulu\nProcessing Record 34 of Set 12 | kondinskoye\nProcessing Record 35 of Set 12 | sierre\nProcessing Record 36 of Set 12 | rongcheng\nProcessing Record 37 of Set 12 | bonanza\nProcessing Record 38 of Set 12 | tabou\nProcessing Record 39 of Set 12 | nouadhibou\nProcessing Record 40 of Set 12 | vostok\nProcessing Record 41 of Set 12 | killin\nProcessing Record 42 of Set 12 | mrirt\nCity not found. Skipping...\nProcessing Record 43 of Set 12 | zemio\nProcessing Record 44 of Set 12 | palaia fokaia\nProcessing Record 45 of Set 12 | kamenskoye\nCity not found. Skipping...\nProcessing Record 46 of Set 12 | saryozek\nProcessing Record 47 of Set 12 | armacao dos buzios\nCity not found. Skipping...\nProcessing Record 48 of Set 12 | linxia\nProcessing Record 49 of Set 12 | road town\nProcessing Record 50 of Set 12 | watsa\nProcessing Record 1 of Set 13 | dargaville\nProcessing Record 2 of Set 13 | pundaguitan\nProcessing Record 3 of Set 13 | thinadhoo\nProcessing Record 4 of Set 13 | kapit\nProcessing Record 5 of Set 13 | kibre mengist\nProcessing Record 6 of Set 13 | roma\nProcessing Record 7 of Set 13 | luis correia\nProcessing Record 8 of Set 13 | nantucket\nProcessing Record 9 of Set 13 | bud\nProcessing Record 10 of Set 13 | flin flon\nProcessing Record 11 of Set 13 | cabedelo\nProcessing Record 12 of Set 13 | concepcion\nProcessing Record 13 of Set 13 | diapaga\nProcessing Record 14 of Set 13 | kieta\nProcessing Record 15 of Set 13 | monrovia\nProcessing Record 16 of Set 13 | islahiye\nProcessing Record 17 of Set 13 | chifeng\nProcessing Record 18 of Set 13 | lockport\n-----------------------------\nData Retrieval Complete      \n-----------------------------\n"
    }
   ],
   "source": [
    "# Starting URL for Weather Map API Call.\n",
    "url = \"http://api.openweathermap.org/data/2.5/weather?units=Imperial&APPID=\" + weatherApiKey\n",
    "\n",
    "# Create an empty list to hold the weather data.   \n",
    "cityData = []\n",
    "# Print the beginning of the logging.\n",
    "print(\"Beginning Data Retrieval     \")\n",
    "print(\"-----------------------------\")\n",
    "\n",
    "# Create counters.\n",
    "recordCount = 1\n",
    "setCount = 1\n",
    "# Loop through all the cities in our list.\n",
    "for i, city in enumerate(cities):\n",
    "    \n",
    "    # Group cities in sets of 50 for logging purposesf\n",
    "    if (i % 50 == 0 and i >= 50):\n",
    "        setCount += 1\n",
    "        recordCount = 1\n",
    "    # Create endpoint URL with each city\n",
    "    cityUrl = url + \"&q=\" + city.replace(\" \",\"+\")\n",
    "\n",
    "    # Log the URL, record, and set numbers and the city.\n",
    "    print(f\"Processing Record {recordCount} of Set {setCount} | {city}\")\n",
    "    # Add 1 to the record count.\n",
    "    recordCount += 1\n",
    "    # Run an API request for each of the cities.\n",
    "    try:\n",
    "        # Parse the JSON and retrieve data.\n",
    "        cityWeather = requests.get(cityUrl).json()\n",
    "        # Parse out the needed data\n",
    "        cityLat = cityWeather[\"coord\"][\"lat\"]\n",
    "        cityLng = cityWeather[\"coord\"][\"lon\"]\n",
    "        cityMaxTemp = cityWeather[\"main\"][\"temp_max\"]\n",
    "        cityHumidity = cityWeather[\"main\"][\"humidity\"]\n",
    "        cityClouds = cityWeather[\"clouds\"][\"all\"]\n",
    "        cityWind = cityWeather[\"wind\"][\"speed\"]\n",
    "        cityCountry = cityWeather[\"sys\"][\"country\"]\n",
    "        # Convert the date to ISO standard.\n",
    "        cityDate = datetime.utcfromtimestamp(cityWeather[\"dt\"]).strftime('%Y-%m-%d %H:%M:%S')\n",
    "        # Append the city information into city_data list.\n",
    "        cityData.append({\n",
    "            \"City\" : city.title(),\n",
    "            \"Lat\" : cityLat,\n",
    "            \"Lng\" : cityLng,\n",
    "            \"Max Temp\" : cityMaxTemp,\n",
    "            \"Humidity\" : cityHumidity,\n",
    "            \"Cloudiness\" : cityClouds,\n",
    "            \"Wind Speed\": cityWind,\n",
    "            \"Country\": cityCountry,\n",
    "            \"Date\": cityDate})\n",
    "    # If an error is experienced, skip the city.\n",
    "    except:\n",
    "        print(\"City not found. Skipping...\")\n",
    "        pass\n",
    "\n",
    "# Indicate that Data Loading is complete.\n",
    "print(\"-----------------------------\")\n",
    "print(\"Data Retrieval Complete      \")\n",
    "print(\"-----------------------------\")\n",
    "\n"
   ]
  },
  {
   "cell_type": "code",
   "execution_count": 11,
   "metadata": {},
   "outputs": [
    {
     "output_type": "execute_result",
     "data": {
      "text/plain": "571"
     },
     "metadata": {},
     "execution_count": 11
    }
   ],
   "source": [
    "# Get the number of the retrieved cities\n",
    "len(cityData)"
   ]
  },
  {
   "cell_type": "code",
   "execution_count": 12,
   "metadata": {},
   "outputs": [
    {
     "output_type": "execute_result",
     "data": {
      "text/plain": "           City    Lat     Lng  Max Temp  Humidity  Cloudiness  Wind Speed  \\\n0         Airai  -8.93  125.41     70.34        75          59        5.39   \n1        Albany  42.60  -73.97     75.99        91          99        6.64   \n2  Norman Wells  65.28 -126.83     53.60        71          75       13.87   \n3  Puerto Ayora  -0.74  -90.35     66.99        95          92        7.38   \n4         Vaini -21.20 -175.20     75.20        78          75       10.29   \n5    Bredasdorp -34.53   20.04     50.00        81          70       16.11   \n6  La Primavera   5.49  -70.41     75.36        90         100        3.47   \n7     Mahebourg -20.41   57.70     68.00        68          40       17.22   \n8        Burnie -41.07  145.92     55.99        69         100        1.01   \n9   Tuktoyaktuk  69.45 -133.04     42.80        87          75       12.75   \n\n  Country                 Date  \n0      TL  2020-07-11 02:45:40  \n1      US  2020-07-11 02:43:52  \n2      CA  2020-07-11 02:42:06  \n3      EC  2020-07-11 02:43:46  \n4      TO  2020-07-11 02:45:41  \n5      ZA  2020-07-11 02:43:54  \n6      CO  2020-07-11 02:45:41  \n7      MU  2020-07-11 02:45:41  \n8      AU  2020-07-11 02:45:41  \n9      CA  2020-07-11 02:45:41  ",
      "text/html": "<div>\n<style scoped>\n    .dataframe tbody tr th:only-of-type {\n        vertical-align: middle;\n    }\n\n    .dataframe tbody tr th {\n        vertical-align: top;\n    }\n\n    .dataframe thead th {\n        text-align: right;\n    }\n</style>\n<table border=\"1\" class=\"dataframe\">\n  <thead>\n    <tr style=\"text-align: right;\">\n      <th></th>\n      <th>City</th>\n      <th>Lat</th>\n      <th>Lng</th>\n      <th>Max Temp</th>\n      <th>Humidity</th>\n      <th>Cloudiness</th>\n      <th>Wind Speed</th>\n      <th>Country</th>\n      <th>Date</th>\n    </tr>\n  </thead>\n  <tbody>\n    <tr>\n      <th>0</th>\n      <td>Airai</td>\n      <td>-8.93</td>\n      <td>125.41</td>\n      <td>70.34</td>\n      <td>75</td>\n      <td>59</td>\n      <td>5.39</td>\n      <td>TL</td>\n      <td>2020-07-11 02:45:40</td>\n    </tr>\n    <tr>\n      <th>1</th>\n      <td>Albany</td>\n      <td>42.60</td>\n      <td>-73.97</td>\n      <td>75.99</td>\n      <td>91</td>\n      <td>99</td>\n      <td>6.64</td>\n      <td>US</td>\n      <td>2020-07-11 02:43:52</td>\n    </tr>\n    <tr>\n      <th>2</th>\n      <td>Norman Wells</td>\n      <td>65.28</td>\n      <td>-126.83</td>\n      <td>53.60</td>\n      <td>71</td>\n      <td>75</td>\n      <td>13.87</td>\n      <td>CA</td>\n      <td>2020-07-11 02:42:06</td>\n    </tr>\n    <tr>\n      <th>3</th>\n      <td>Puerto Ayora</td>\n      <td>-0.74</td>\n      <td>-90.35</td>\n      <td>66.99</td>\n      <td>95</td>\n      <td>92</td>\n      <td>7.38</td>\n      <td>EC</td>\n      <td>2020-07-11 02:43:46</td>\n    </tr>\n    <tr>\n      <th>4</th>\n      <td>Vaini</td>\n      <td>-21.20</td>\n      <td>-175.20</td>\n      <td>75.20</td>\n      <td>78</td>\n      <td>75</td>\n      <td>10.29</td>\n      <td>TO</td>\n      <td>2020-07-11 02:45:41</td>\n    </tr>\n    <tr>\n      <th>5</th>\n      <td>Bredasdorp</td>\n      <td>-34.53</td>\n      <td>20.04</td>\n      <td>50.00</td>\n      <td>81</td>\n      <td>70</td>\n      <td>16.11</td>\n      <td>ZA</td>\n      <td>2020-07-11 02:43:54</td>\n    </tr>\n    <tr>\n      <th>6</th>\n      <td>La Primavera</td>\n      <td>5.49</td>\n      <td>-70.41</td>\n      <td>75.36</td>\n      <td>90</td>\n      <td>100</td>\n      <td>3.47</td>\n      <td>CO</td>\n      <td>2020-07-11 02:45:41</td>\n    </tr>\n    <tr>\n      <th>7</th>\n      <td>Mahebourg</td>\n      <td>-20.41</td>\n      <td>57.70</td>\n      <td>68.00</td>\n      <td>68</td>\n      <td>40</td>\n      <td>17.22</td>\n      <td>MU</td>\n      <td>2020-07-11 02:45:41</td>\n    </tr>\n    <tr>\n      <th>8</th>\n      <td>Burnie</td>\n      <td>-41.07</td>\n      <td>145.92</td>\n      <td>55.99</td>\n      <td>69</td>\n      <td>100</td>\n      <td>1.01</td>\n      <td>AU</td>\n      <td>2020-07-11 02:45:41</td>\n    </tr>\n    <tr>\n      <th>9</th>\n      <td>Tuktoyaktuk</td>\n      <td>69.45</td>\n      <td>-133.04</td>\n      <td>42.80</td>\n      <td>87</td>\n      <td>75</td>\n      <td>12.75</td>\n      <td>CA</td>\n      <td>2020-07-11 02:45:41</td>\n    </tr>\n  </tbody>\n</table>\n</div>"
     },
     "metadata": {},
     "execution_count": 12
    }
   ],
   "source": [
    "# Convert the array of dictionaries to a Pandas DataFrame.\n",
    "cityDataDF = pd.DataFrame(cityData)\n",
    "cityDataDF.head(10)"
   ]
  },
  {
   "cell_type": "code",
   "execution_count": 19,
   "metadata": {},
   "outputs": [
    {
     "output_type": "execute_result",
     "data": {
      "text/plain": "           City Country                 Date    Lat     Lng  Max Temp  \\\n0         Airai      TL  2020-07-11 02:45:40  -8.93  125.41     70.34   \n1        Albany      US  2020-07-11 02:43:52  42.60  -73.97     75.99   \n2  Norman Wells      CA  2020-07-11 02:42:06  65.28 -126.83     53.60   \n3  Puerto Ayora      EC  2020-07-11 02:43:46  -0.74  -90.35     66.99   \n4         Vaini      TO  2020-07-11 02:45:41 -21.20 -175.20     75.20   \n5    Bredasdorp      ZA  2020-07-11 02:43:54 -34.53   20.04     50.00   \n6  La Primavera      CO  2020-07-11 02:45:41   5.49  -70.41     75.36   \n7     Mahebourg      MU  2020-07-11 02:45:41 -20.41   57.70     68.00   \n8        Burnie      AU  2020-07-11 02:45:41 -41.07  145.92     55.99   \n9   Tuktoyaktuk      CA  2020-07-11 02:45:41  69.45 -133.04     42.80   \n\n   Humidity  Cloudiness  Wind Speed  \n0        75          59        5.39  \n1        91          99        6.64  \n2        71          75       13.87  \n3        95          92        7.38  \n4        78          75       10.29  \n5        81          70       16.11  \n6        90         100        3.47  \n7        68          40       17.22  \n8        69         100        1.01  \n9        87          75       12.75  ",
      "text/html": "<div>\n<style scoped>\n    .dataframe tbody tr th:only-of-type {\n        vertical-align: middle;\n    }\n\n    .dataframe tbody tr th {\n        vertical-align: top;\n    }\n\n    .dataframe thead th {\n        text-align: right;\n    }\n</style>\n<table border=\"1\" class=\"dataframe\">\n  <thead>\n    <tr style=\"text-align: right;\">\n      <th></th>\n      <th>City</th>\n      <th>Country</th>\n      <th>Date</th>\n      <th>Lat</th>\n      <th>Lng</th>\n      <th>Max Temp</th>\n      <th>Humidity</th>\n      <th>Cloudiness</th>\n      <th>Wind Speed</th>\n    </tr>\n  </thead>\n  <tbody>\n    <tr>\n      <th>0</th>\n      <td>Airai</td>\n      <td>TL</td>\n      <td>2020-07-11 02:45:40</td>\n      <td>-8.93</td>\n      <td>125.41</td>\n      <td>70.34</td>\n      <td>75</td>\n      <td>59</td>\n      <td>5.39</td>\n    </tr>\n    <tr>\n      <th>1</th>\n      <td>Albany</td>\n      <td>US</td>\n      <td>2020-07-11 02:43:52</td>\n      <td>42.60</td>\n      <td>-73.97</td>\n      <td>75.99</td>\n      <td>91</td>\n      <td>99</td>\n      <td>6.64</td>\n    </tr>\n    <tr>\n      <th>2</th>\n      <td>Norman Wells</td>\n      <td>CA</td>\n      <td>2020-07-11 02:42:06</td>\n      <td>65.28</td>\n      <td>-126.83</td>\n      <td>53.60</td>\n      <td>71</td>\n      <td>75</td>\n      <td>13.87</td>\n    </tr>\n    <tr>\n      <th>3</th>\n      <td>Puerto Ayora</td>\n      <td>EC</td>\n      <td>2020-07-11 02:43:46</td>\n      <td>-0.74</td>\n      <td>-90.35</td>\n      <td>66.99</td>\n      <td>95</td>\n      <td>92</td>\n      <td>7.38</td>\n    </tr>\n    <tr>\n      <th>4</th>\n      <td>Vaini</td>\n      <td>TO</td>\n      <td>2020-07-11 02:45:41</td>\n      <td>-21.20</td>\n      <td>-175.20</td>\n      <td>75.20</td>\n      <td>78</td>\n      <td>75</td>\n      <td>10.29</td>\n    </tr>\n    <tr>\n      <th>5</th>\n      <td>Bredasdorp</td>\n      <td>ZA</td>\n      <td>2020-07-11 02:43:54</td>\n      <td>-34.53</td>\n      <td>20.04</td>\n      <td>50.00</td>\n      <td>81</td>\n      <td>70</td>\n      <td>16.11</td>\n    </tr>\n    <tr>\n      <th>6</th>\n      <td>La Primavera</td>\n      <td>CO</td>\n      <td>2020-07-11 02:45:41</td>\n      <td>5.49</td>\n      <td>-70.41</td>\n      <td>75.36</td>\n      <td>90</td>\n      <td>100</td>\n      <td>3.47</td>\n    </tr>\n    <tr>\n      <th>7</th>\n      <td>Mahebourg</td>\n      <td>MU</td>\n      <td>2020-07-11 02:45:41</td>\n      <td>-20.41</td>\n      <td>57.70</td>\n      <td>68.00</td>\n      <td>68</td>\n      <td>40</td>\n      <td>17.22</td>\n    </tr>\n    <tr>\n      <th>8</th>\n      <td>Burnie</td>\n      <td>AU</td>\n      <td>2020-07-11 02:45:41</td>\n      <td>-41.07</td>\n      <td>145.92</td>\n      <td>55.99</td>\n      <td>69</td>\n      <td>100</td>\n      <td>1.01</td>\n    </tr>\n    <tr>\n      <th>9</th>\n      <td>Tuktoyaktuk</td>\n      <td>CA</td>\n      <td>2020-07-11 02:45:41</td>\n      <td>69.45</td>\n      <td>-133.04</td>\n      <td>42.80</td>\n      <td>87</td>\n      <td>75</td>\n      <td>12.75</td>\n    </tr>\n  </tbody>\n</table>\n</div>"
     },
     "metadata": {},
     "execution_count": 19
    }
   ],
   "source": [
    "columnOrder = [\"City\", \"Country\", \"Date\", \"Lat\", \"Lng\", \"Max Temp\", \"Humidity\", \"Cloudiness\", \"Wind Speed\"]\n",
    "cityDataDF = cityDataDF[columnOrder]\n",
    "cityDataDF.head(10)"
   ]
  },
  {
   "cell_type": "code",
   "execution_count": 18,
   "metadata": {},
   "outputs": [],
   "source": [
    "# Create the output file (CSV).\n",
    "outputDataFile = os.path.join(\"weather_data\", \"cities.csv\")\n",
    "# Export the City_Data into a CSV.\n",
    "cityDataDF.to_csv(outputDataFile, index_label=\"City_ID\")\n"
   ]
  },
  {
   "cell_type": "code",
   "execution_count": null,
   "metadata": {},
   "outputs": [],
   "source": []
  }
 ],
 "metadata": {
  "language_info": {
   "codemirror_mode": {
    "name": "ipython",
    "version": 3
   },
   "file_extension": ".py",
   "mimetype": "text/x-python",
   "name": "python",
   "nbconvert_exporter": "python",
   "pygments_lexer": "ipython3",
   "version": "3.7.7-final"
  },
  "orig_nbformat": 2,
  "kernelspec": {
   "name": "python37764bitpythondatacondab808a03d3ba44ba58538b9e1c706f2bc",
   "display_name": "Python 3.7.7 64-bit ('PythonData': conda)"
  }
 },
 "nbformat": 4,
 "nbformat_minor": 2
}